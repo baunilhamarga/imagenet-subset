{
 "cells": [
  {
   "cell_type": "code",
   "execution_count": null,
   "metadata": {},
   "outputs": [],
   "source": [
    "import numpy as np\n",
    "import matplotlib.pyplot as plt\n",
    "import pandas as pd\n",
    "\n",
    "random_state = 12227\n",
    "np.random.seed(random_state)"
   ]
  },
  {
   "cell_type": "code",
   "execution_count": null,
   "metadata": {},
   "outputs": [],
   "source": [
    "subset_name = 'imagenet30'\n",
    "data_path = f'../out_files/{subset_name}_cls.npz'\n",
    "metadata_path = f'../out_files/{subset_name}_metadata.csv'\n",
    "\n",
    "data = np.load(data_path)\n",
    "X_train, y_train, train_id = data['X_train'], data['y_train'], data['train_id']\n",
    "X_val, y_val, val_id = data['X_val'], data['y_val'], data['val_id']"
   ]
  },
  {
   "cell_type": "code",
   "execution_count": null,
   "metadata": {},
   "outputs": [],
   "source": [
    "# Load metadata\n",
    "metadata_df = pd.read_csv(metadata_path)\n",
    "label_to_human = dict(zip(metadata_df['subset_label'], metadata_df['human_label']))"
   ]
  },
  {
   "cell_type": "code",
   "execution_count": null,
   "metadata": {},
   "outputs": [],
   "source": [
    "# Train\n",
    "fig, axs = plt.subplots(1, 3, figsize=(15, 5))\n",
    "for i in range(3):\n",
    "    random_index = np.random.randint(0, len(X_train) - 1)\n",
    "    axs[i].imshow(X_train[random_index])\n",
    "    axs[i].axis('off')\n",
    "    axs[i].set_title(f'Label: {label_to_human[y_train[random_index]]}')\n",
    "plt.show()\n",
    "\n",
    "# Validation\n",
    "fig, axs = plt.subplots(1, 3, figsize=(15, 5))\n",
    "for i in range(3):\n",
    "    random_index = np.random.randint(0, len(X_val) - 1)\n",
    "    axs[i].imshow(X_val[random_index])\n",
    "    axs[i].axis('off')\n",
    "    axs[i].set_title(f'Label: {label_to_human[y_val[random_index]]}')\n",
    "\n",
    "plt.show()"
   ]
  }
 ],
 "metadata": {
  "kernelspec": {
   "display_name": "base",
   "language": "python",
   "name": "python3"
  },
  "language_info": {
   "codemirror_mode": {
    "name": "ipython",
    "version": 3
   },
   "file_extension": ".py",
   "mimetype": "text/x-python",
   "name": "python",
   "nbconvert_exporter": "python",
   "pygments_lexer": "ipython3",
   "version": "3.12.4"
  }
 },
 "nbformat": 4,
 "nbformat_minor": 2
}
